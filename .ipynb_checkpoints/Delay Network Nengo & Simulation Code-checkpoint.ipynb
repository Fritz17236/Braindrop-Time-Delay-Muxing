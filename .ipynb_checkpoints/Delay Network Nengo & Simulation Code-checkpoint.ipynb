{
 "cells": [
  {
   "cell_type": "markdown",
   "metadata": {},
   "source": [
    "# ORIGINAL CODE COPIED FROM CNGR WATERLOO GITHUB REPO (particularly Aaron Voelker) : \n",
    "    \n",
    "## Delay Network on BrainDrop\n",
    "This notebook explores the implementation of a \"delay network\" (DN), i.e., a dynamical system optimized to represent a rolling window of input history, on the real BrainDrop. For technical details, see:\n",
    "\n",
    "http://compneuro.uwaterloo.ca/publications/voelker2018.html\n",
    "https://arvoelke.github.io/nengolib-docs/nengolib.networks.RollingWindow.html\n",
    "https://github.com/arvoelke/cosyne2018/raw/master/abstract.pdf"
   ]
  },
  {
   "cell_type": "code",
   "execution_count": 1,
   "metadata": {},
   "outputs": [],
   "source": [
    "%matplotlib inline\n"
   ]
  },
  {
   "cell_type": "code",
   "execution_count": 2,
   "metadata": {},
   "outputs": [],
   "source": [
    "import seaborn as sns  # does this override any style?\n",
    "\n",
    "import matplotlib.pyplot as plt\n",
    "#plt.style.use('~/Downloads/ieee_tran.mplstyle')\n",
    "# We don't have this file locally \n",
    "\n",
    "SMALL_SIZE = 8\n",
    "MEDIUM_SIZE = 10\n",
    "BIGGER_SIZE = 12\n",
    "\n",
    "plt.rc('font', size=SMALL_SIZE)          # controls default text sizes\n",
    "plt.rc('axes', titlesize=SMALL_SIZE)     # fontsize of the axes title\n",
    "plt.rc('axes', labelsize=SMALL_SIZE)    # fontsize of the x and y labels\n",
    "plt.rc('xtick', labelsize=SMALL_SIZE)    # fontsize of the tick labels\n",
    "plt.rc('ytick', labelsize=SMALL_SIZE)    # fontsize of the tick labels\n",
    "plt.rc('legend', fontsize=SMALL_SIZE)    # legend fontsize\n",
    "plt.rc('figure', titlesize=BIGGER_SIZE)  # fontsize of the figure title\n",
    "\n",
    "plt.rc('text', usetex=True)"
   ]
  },
  {
   "cell_type": "code",
   "execution_count": 3,
   "metadata": {},
   "outputs": [
    {
     "name": "stderr",
     "output_type": "stream",
     "text": [
      "C:\\ProgramData\\Anaconda3\\lib\\site-packages\\nengo_brainstorm-0.0.1-py3.6.egg\\nengo_brainstorm\\solvers.py:8: UserWarning: cvxpy not found. decoder solving may require scaling\n"
     ]
    },
    {
     "ename": "ModuleNotFoundError",
     "evalue": "No module named 'pystorm.PyDriver'",
     "output_type": "error",
     "traceback": [
      "\u001b[1;31m---------------------------------------------------------------------------\u001b[0m",
      "\u001b[1;31mModuleNotFoundError\u001b[0m                       Traceback (most recent call last)",
      "\u001b[1;32m<ipython-input-3-9d7c08bc8744>\u001b[0m in \u001b[0;36m<module>\u001b[1;34m()\u001b[0m\n\u001b[0;32m      2\u001b[0m \u001b[1;33m\u001b[0m\u001b[0m\n\u001b[0;32m      3\u001b[0m \u001b[1;32mimport\u001b[0m \u001b[0mnengo\u001b[0m\u001b[1;33m\u001b[0m\u001b[0m\n\u001b[1;32m----> 4\u001b[1;33m \u001b[1;32mimport\u001b[0m \u001b[0mnengo_brainstorm\u001b[0m \u001b[1;32mas\u001b[0m \u001b[0mbrd\u001b[0m\u001b[1;33m\u001b[0m\u001b[0m\n\u001b[0m\u001b[0;32m      5\u001b[0m \u001b[1;32mfrom\u001b[0m \u001b[0mnengolib\u001b[0m \u001b[1;32mimport\u001b[0m \u001b[0mLowpass\u001b[0m\u001b[1;33m\u001b[0m\u001b[0m\n\u001b[0;32m      6\u001b[0m \u001b[1;32mfrom\u001b[0m \u001b[0mnengolib\u001b[0m\u001b[1;33m.\u001b[0m\u001b[0mnetworks\u001b[0m \u001b[1;32mimport\u001b[0m \u001b[0mreadout\u001b[0m\u001b[1;33m\u001b[0m\u001b[0m\n",
      "\u001b[1;32mC:\\ProgramData\\Anaconda3\\lib\\site-packages\\nengo_brainstorm-0.0.1-py3.6.egg\\nengo_brainstorm\\__init__.py\u001b[0m in \u001b[0;36m<module>\u001b[1;34m()\u001b[0m\n\u001b[1;32m----> 1\u001b[1;33m \u001b[1;32mfrom\u001b[0m \u001b[1;33m.\u001b[0m\u001b[0msimulator\u001b[0m \u001b[1;32mimport\u001b[0m \u001b[0mSimulator\u001b[0m\u001b[1;33m\u001b[0m\u001b[0m\n\u001b[0m\u001b[0;32m      2\u001b[0m \u001b[1;32mfrom\u001b[0m \u001b[1;33m.\u001b[0m\u001b[0mconfig\u001b[0m \u001b[1;32mimport\u001b[0m \u001b[0madd_params\u001b[0m\u001b[1;33m\u001b[0m\u001b[0m\n\u001b[0;32m      3\u001b[0m \u001b[1;32mfrom\u001b[0m \u001b[1;33m.\u001b[0m\u001b[0mspikes\u001b[0m \u001b[1;32mimport\u001b[0m \u001b[0mgenerate_spike_train\u001b[0m\u001b[1;33m\u001b[0m\u001b[0m\n\u001b[0;32m      4\u001b[0m \u001b[1;32mfrom\u001b[0m \u001b[1;33m.\u001b[0m\u001b[0mcheck_pystorm\u001b[0m \u001b[1;32mimport\u001b[0m \u001b[0mcheck_pystorm_version\u001b[0m\u001b[1;33m\u001b[0m\u001b[0m\n\u001b[0;32m      5\u001b[0m \u001b[1;33m\u001b[0m\u001b[0m\n",
      "\u001b[1;32mC:\\ProgramData\\Anaconda3\\lib\\site-packages\\nengo_brainstorm-0.0.1-py3.6.egg\\nengo_brainstorm\\simulator.py\u001b[0m in \u001b[0;36m<module>\u001b[1;34m()\u001b[0m\n\u001b[0;32m      7\u001b[0m \u001b[1;32mfrom\u001b[0m \u001b[1;33m.\u001b[0m \u001b[1;32mimport\u001b[0m \u001b[0mcache\u001b[0m\u001b[1;33m\u001b[0m\u001b[0m\n\u001b[0;32m      8\u001b[0m \u001b[1;32mfrom\u001b[0m \u001b[1;33m.\u001b[0m\u001b[0mspikes\u001b[0m \u001b[1;32mimport\u001b[0m \u001b[0mgenerate_spike_train\u001b[0m\u001b[1;33m\u001b[0m\u001b[0m\n\u001b[1;32m----> 9\u001b[1;33m \u001b[1;32mfrom\u001b[0m \u001b[1;33m.\u001b[0m\u001b[0mconfig\u001b[0m \u001b[1;32mimport\u001b[0m \u001b[0madd_params\u001b[0m\u001b[1;33m\u001b[0m\u001b[0m\n\u001b[0m\u001b[0;32m     10\u001b[0m \u001b[1;33m\u001b[0m\u001b[0m\n\u001b[0;32m     11\u001b[0m \u001b[1;32mimport\u001b[0m \u001b[0mlogging\u001b[0m\u001b[1;33m\u001b[0m\u001b[0m\n",
      "\u001b[1;32mC:\\ProgramData\\Anaconda3\\lib\\site-packages\\nengo_brainstorm-0.0.1-py3.6.egg\\nengo_brainstorm\\config.py\u001b[0m in \u001b[0;36m<module>\u001b[1;34m()\u001b[0m\n\u001b[0;32m      3\u001b[0m \u001b[1;32mfrom\u001b[0m \u001b[0mnengo\u001b[0m\u001b[1;33m.\u001b[0m\u001b[0mparams\u001b[0m \u001b[1;32mimport\u001b[0m \u001b[0mParameter\u001b[0m\u001b[1;33m\u001b[0m\u001b[0m\n\u001b[0;32m      4\u001b[0m \u001b[1;32mfrom\u001b[0m \u001b[0mnengo_brainstorm\u001b[0m \u001b[1;32mimport\u001b[0m \u001b[0msolvers\u001b[0m\u001b[1;33m\u001b[0m\u001b[0m\n\u001b[1;32m----> 5\u001b[1;33m \u001b[1;32mfrom\u001b[0m \u001b[0mpystorm\u001b[0m\u001b[1;33m.\u001b[0m\u001b[0mhal\u001b[0m \u001b[1;32mimport\u001b[0m \u001b[0mDAC_DEFAULTS\u001b[0m\u001b[1;33m\u001b[0m\u001b[0m\n\u001b[0m\u001b[0;32m      6\u001b[0m \u001b[1;33m\u001b[0m\u001b[0m\n\u001b[0;32m      7\u001b[0m \u001b[1;32mdef\u001b[0m \u001b[0madd_params\u001b[0m\u001b[1;33m(\u001b[0m\u001b[0mnetwork\u001b[0m\u001b[1;33m)\u001b[0m\u001b[1;33m:\u001b[0m\u001b[1;33m\u001b[0m\u001b[0m\n",
      "\u001b[1;32mC:\\ProgramData\\Anaconda3\\lib\\site-packages\\pystorm-0.1-py3.6.egg\\pystorm\\hal\\__init__.py\u001b[0m in \u001b[0;36m<module>\u001b[1;34m()\u001b[0m\n\u001b[1;32m----> 1\u001b[1;33m \u001b[1;32mfrom\u001b[0m \u001b[1;33m.\u001b[0m\u001b[0mhal\u001b[0m \u001b[1;32mimport\u001b[0m \u001b[0mHAL\u001b[0m\u001b[1;33m,\u001b[0m \u001b[0mDAC_DEFAULTS\u001b[0m\u001b[1;33m,\u001b[0m \u001b[0mparse_hal_spikes\u001b[0m\u001b[1;33m,\u001b[0m \u001b[0mparse_hal_binned_tags\u001b[0m\u001b[1;33m,\u001b[0m \u001b[0mbin_tags_spikes\u001b[0m\u001b[1;33m\u001b[0m\u001b[0m\n\u001b[0m\u001b[0;32m      2\u001b[0m \u001b[1;32mfrom\u001b[0m \u001b[1;33m.\u001b[0m\u001b[0mrun_control\u001b[0m \u001b[1;32mimport\u001b[0m \u001b[0mRunControl\u001b[0m\u001b[1;33m\u001b[0m\u001b[0m\n\u001b[0;32m      3\u001b[0m \u001b[1;32mfrom\u001b[0m \u001b[1;33m.\u001b[0m\u001b[0mnet_builder\u001b[0m \u001b[1;32mimport\u001b[0m \u001b[0mNetBuilder\u001b[0m\u001b[1;33m\u001b[0m\u001b[0m\n\u001b[0;32m      4\u001b[0m \u001b[1;32mfrom\u001b[0m \u001b[1;33m.\u001b[0m\u001b[0mcalibrator\u001b[0m \u001b[1;32mimport\u001b[0m \u001b[0mCalibrator\u001b[0m\u001b[1;33m,\u001b[0m \u001b[0mPoolSpec\u001b[0m\u001b[1;33m\u001b[0m\u001b[0m\n",
      "\u001b[1;32mC:\\ProgramData\\Anaconda3\\lib\\site-packages\\pystorm-0.1-py3.6.egg\\pystorm\\hal\\hal.py\u001b[0m in \u001b[0;36m<module>\u001b[1;34m()\u001b[0m\n\u001b[0;32m      4\u001b[0m \u001b[1;32mimport\u001b[0m \u001b[0mnumpy\u001b[0m \u001b[1;32mas\u001b[0m \u001b[0mnp\u001b[0m\u001b[1;33m\u001b[0m\u001b[0m\n\u001b[0;32m      5\u001b[0m \u001b[1;32mimport\u001b[0m \u001b[0mpystorm\u001b[0m\u001b[1;33m\u001b[0m\u001b[0m\n\u001b[1;32m----> 6\u001b[1;33m \u001b[1;32mfrom\u001b[0m \u001b[0mpystorm\u001b[0m\u001b[1;33m.\u001b[0m\u001b[0mPyDriver\u001b[0m \u001b[1;32mimport\u001b[0m \u001b[0mbddriver\u001b[0m \u001b[1;32mas\u001b[0m \u001b[0mbd\u001b[0m\u001b[1;33m\u001b[0m\u001b[0m\n\u001b[0m\u001b[0;32m      7\u001b[0m \u001b[1;32mfrom\u001b[0m \u001b[0mpystorm\u001b[0m\u001b[1;33m.\u001b[0m\u001b[0mhal\u001b[0m\u001b[1;33m.\u001b[0m\u001b[0mneuromorph\u001b[0m\u001b[1;33m.\u001b[0m\u001b[0mcore\u001b[0m \u001b[1;32mimport\u001b[0m \u001b[0mCore\u001b[0m\u001b[1;33m\u001b[0m\u001b[0m\n\u001b[0;32m      8\u001b[0m \u001b[1;32mfrom\u001b[0m \u001b[0mpystorm\u001b[0m\u001b[1;33m.\u001b[0m\u001b[0mhal\u001b[0m\u001b[1;33m.\u001b[0m\u001b[0mneuromorph\u001b[0m\u001b[1;33m.\u001b[0m\u001b[0mcore_pars\u001b[0m \u001b[1;32mimport\u001b[0m \u001b[0mCORE_PARAMETERS\u001b[0m\u001b[1;33m\u001b[0m\u001b[0m\n",
      "\u001b[1;31mModuleNotFoundError\u001b[0m: No module named 'pystorm.PyDriver'"
     ]
    }
   ],
   "source": [
    "import numpy as np\n",
    "\n",
    "import nengo\n",
    "import nengo_brainstorm as brd\n",
    "from nengolib import Lowpass\n",
    "from nengolib.networks import readout\n",
    "from nengolib.signal import Balanced\n",
    "from nengolib.synapses import PadeDelay, pade_delay_error, ss2sim"
   ]
  },
  {
   "cell_type": "markdown",
   "metadata": {},
   "source": [
    "## Numerical Simulation\n",
    "First, let's just look at the delay network's LTI system, and simulate it directly in discrete-time using the state-space equations:\n",
    "\n",
    "$${\\bf x}[t+1] = \\bar{A} {\\bf x}[t] + \\bar{B} u[t] \\text{.}$$\n",
    "For debugging purposes, we compute the Padé approximation error for the given cut-off input frequency.\n",
    "\n",
    "We also compute the optimal linear transformation that maps from the state-space back to the rolling window of input history. This gives us a way to efficiently compute functions across time within the lower-dimensional (temporally-compressed) space. Note the transformation accounts for the fact that the state-space has been \"balanced\"."
   ]
  },
  {
   "cell_type": "code",
   "execution_count": null,
   "metadata": {},
   "outputs": [],
   "source": [
    "\n",
    "theta = .1    #0.1\n",
    "order = 15    # 3\n",
    "freq = 30       # 3\n",
    "power = 1.5  # chosen to keep radii normalized to [-1, 1]\n",
    "\n",
    "print(\"PadeDelay(%s, %s) => %f%% error @ %sHz\" % (\n",
    "    theta, order, 100*abs(pade_delay_error(theta*freq, order=order)), freq))\n",
    "pd = PadeDelay(theta=theta, order=order)\n",
    "\n",
    "# Heuristic for normalizing state so that each dimension is ~[-1, +1]\n",
    "rz = Balanced()(pd, radii=1./(np.arange(len(pd))+1))\n",
    "sys = rz.realization\n",
    "\n",
    "# Compute matrix to transform from state (x) -> sampled window (u)\n",
    "t_samples = 1\n",
    "C = np.asarray([readout(len(pd), r)\n",
    "                for r in np.linspace(0, 1, t_samples)]).dot(rz.T)\n",
    "assert C.shape == (t_samples, len(sys))\n",
    "C = C.transpose()"
   ]
  },
  {
   "cell_type": "code",
   "execution_count": null,
   "metadata": {},
   "outputs": [],
   "source": [
    "length = 2000\n",
    "dt = 0.001\n",
    "seed = 1  # chosen just to get a pretty sample\n",
    "\n",
    "process = nengo.processes.WhiteSignal(\n",
    "    period=length*dt, rms=power, high=freq, y0=0, seed=seed)\n",
    "t = process.ntrange(length, dt=dt)\n",
    "u = process.run_steps(length, dt=dt)\n",
    "x = sys.X.filt(u, dt=dt)  # discretizes sys using ZOH\n"
   ]
  },
  {
   "cell_type": "code",
   "execution_count": null,
   "metadata": {},
   "outputs": [],
   "source": [
    "y = np.matmul(x,C) # Compute Delayed Signal Using Matrix C from state x. \n",
    "plt.plot( t[0:499], u[0:499],t[0:499], y[0:499])\n",
    "plt.xlabel('Time (s)')\n",
    "plt.ylabel('State Value')\n",
    "plt.legend(['Input', 'Output'])\n",
    "plt.show()\n",
    "\n"
   ]
  },
  {
   "cell_type": "markdown",
   "metadata": {},
   "source": [
    "## nengo_brainstorm (NEF on BrainDrop) Implementation\n",
    "Now we apply \"Principle 3\" to map $\\dot{{\\bf x}}(t) = A{\\bf x}(t) + Bu(t)$ onto a model for the synapse being used by BrainDrop. The input signal $u(t)$ is drawn from the same band-limited white noise process used above.\n",
    "\n",
    "Each dimension is represented by a separate neural ensemble. Then we probe the value of each dimension, and linearly map them to the rolling window."
   ]
  },
  {
   "cell_type": "code",
   "execution_count": null,
   "metadata": {},
   "outputs": [],
   "source": [
    "n_neurons = 128  # per dimension\n",
    "tau = 0.018329807108324356  # guess from Terry's notebook\n",
    "map_hw = ss2sim(sys, synapse=Lowpass(tau), dt=None)\n",
    "assert np.allclose(map_hw.A, tau*sys.A + np.eye(len(sys)))\n",
    "assert np.allclose(map_hw.B, tau*sys.B)\n",
    "\n",
    "with nengo.Network() as model:\n",
    "    brd.add_params(model)\n",
    "\n",
    "    u = nengo.Node(output=process, label='u')\n",
    "    p_u = nengo.Probe(u, synapse=None)\n",
    "    \n",
    "    # This is needed because a single node can't connect to multiple\n",
    "    # different ensembles. We need a separate node for each ensemble.\n",
    "    Bu = [nengo.Node(output=lambda _, u, b_i=map_hw.B[i].squeeze(): b_i*u,\n",
    "                     size_in=1, label='Bu[%d]' % i)\n",
    "          for i in range(len(sys))]\n",
    "    \n",
    "    X = []\n",
    "    for i in range(len(sys)):\n",
    "        ens = nengo.Ensemble(\n",
    "            n_neurons=n_neurons, dimensions=1, label='X[%d]' % i)\n",
    "\n",
    "        from nengo_brainstorm import solvers\n",
    "        solver = solvers.FallbackSolver([nengo.solvers.LstsqL2(reg=0.01),\n",
    "                                         solvers.CVXSolver(reg=0.01)])\n",
    "        model.config[ens].solver = solver\n",
    "\n",
    "        X.append(ens)\n",
    " \n",
    "    P = []\n",
    "    for i in range(len(sys)):\n",
    "        nengo.Connection(u, Bu[i], synapse=None)\n",
    "        nengo.Connection(Bu[i], X[i], synapse=tau)\n",
    "        for j in range(len(sys)):\n",
    "            nengo.Connection(X[j], X[i], synapse=tau,\n",
    "                             function=lambda x_j, a_ij=map_hw.A[i, j]: a_ij*x_j)\n",
    "        P.append(nengo.Probe(X[i], synapse=None))"
   ]
  },
  {
   "cell_type": "code",
   "execution_count": null,
   "metadata": {},
   "outputs": [],
   "source": [
    "with brd.Simulator(model, dt=dt,\n",
    "                   precompute_inputs=True,\n",
    "                   compute_stats=False,\n",
    "                   generate_offset=1.0,\n",
    "                   precompute_offset=1.0) as sim:\n",
    "    sim.run(length*dt)"
   ]
  },
  {
   "cell_type": "code",
   "execution_count": null,
   "metadata": {},
   "outputs": [],
   "source": [
    "with brd.Simulator(model, dt=dt,\n",
    "                   precompute_inputs=True,\n",
    "                   compute_stats=False,\n",
    "                   generate_offset=1.0,\n",
    "                   precompute_offset=1.0) as sim:\n",
    "    sim.run(length*dt)"
   ]
  },
  {
   "cell_type": "code",
   "execution_count": null,
   "metadata": {},
   "outputs": [],
   "source": [
    "from matplotlib.collections import LineCollection\n",
    "from matplotlib.legend_handler import HandlerLineCollection\n",
    "from matplotlib.lines import Line2D\n",
    "\n",
    "\n",
    "class HandlerDashedLines(HandlerLineCollection):\n",
    "    \"\"\"Adapted from http://matplotlib.org/examples/pylab_examples/legend_demo5.html\"\"\"  # noqa: E501\n",
    "\n",
    "    def create_artists(self, legend, orig_handle,\n",
    "                       xdescent, ydescent, width, height, fontsize, trans):\n",
    "        # figure out how many lines there are\n",
    "        numlines = len(orig_handle.get_segments())\n",
    "        xdata, xdata_marker = self.get_xdata(\n",
    "            legend, xdescent, ydescent, width / numlines, height, fontsize)\n",
    "        leglines = []\n",
    "        for i in range(numlines):\n",
    "            legline = Line2D(\n",
    "                xdata + i * width / numlines,\n",
    "                np.zeros_like(xdata.shape) - ydescent + height / 2)\n",
    "            self.update_prop(legline, orig_handle, legend)\n",
    "            # set color, dash pattern, and linewidth to that\n",
    "            # of the lines in linecollection\n",
    "            try:\n",
    "                color = orig_handle.get_colors()[i]\n",
    "            except IndexError:\n",
    "                color = orig_handle.get_colors()[0]\n",
    "            try:\n",
    "                dashes = orig_handle.get_dashes()[i]\n",
    "            except IndexError:\n",
    "                dashes = orig_handle.get_dashes()[0]\n",
    "            try:\n",
    "                lw = orig_handle.get_linewidths()[i]\n",
    "            except IndexError:\n",
    "                lw = orig_handle.get_linewidths()[0]\n",
    "            if dashes[0] is not None:\n",
    "                legline.set_dashes(dashes[1])\n",
    "            legline.set_color(color)\n",
    "            legline.set_transform(trans)\n",
    "            legline.set_linewidth(lw)\n",
    "            leglines.append(legline)\n",
    "        return leglines\n",
    "\n",
    "\n",
    "def plot(name, t, u, x_hat, C=C):\n",
    "    print(\"Radii:\", np.max(np.abs(x_hat), axis=0))\n",
    "    w = C.dot(x_hat.T)\n",
    "    w_ideal = C.dot(x.T)\n",
    "    assert C.shape == (t_samples, order)\n",
    "    \n",
    "    top_cmap = sns.color_palette('GnBu_d', t_samples)[::-1]\n",
    "    fig, ax = plt.subplots(2, 1, sharex=True, figsize=(3.5, 3.5))\n",
    "    for c, w_i in list(zip(top_cmap, w))[::-1]:\n",
    "        ax[0].plot(t, w_i, c=c, alpha=0.7)\n",
    "    target_line, = ax[0].plot(t, u, c='green', linestyle='--', lw=1)\n",
    "    ax[0].set_ylim(np.min(w), np.max(w) + 1)\n",
    "    \n",
    "    from mpl_toolkits.axes_grid1.inset_locator import inset_axes\n",
    "    from nengolib.signal import nrmse\n",
    "    insert = inset_axes(ax[0], width=\"25%\", height=0.3, loc='upper right')\n",
    "    insert.patch.set_alpha(0.8)\n",
    "    insert.xaxis.tick_top()\n",
    "    insert.tick_params(axis='x', labelsize=4)\n",
    "    insert.tick_params(axis='y', labelsize=4)\n",
    "    insert.xaxis.set_label_position('top') \n",
    "    t_window = np.linspace(0, theta, t_samples)\n",
    "    e_window = nrmse(w, target=w_ideal, axis=1)\n",
    "    for i in range(1, t_samples):\n",
    "        insert.plot([t_window[i-1], t_window[i]],\n",
    "                    [e_window[i-1], e_window[i]],\n",
    "                    c=top_cmap[i])\n",
    "    insert.set_xlabel(\"Delay Length (s)\", size=4)\n",
    "    insert.set_ylabel(\"NRMSE\", size=4)\n",
    "    #insert.set_ylim(0, max(e_window))\n",
    "    \n",
    "    bot_cmap = sns.color_palette('bright', order)\n",
    "    for i in range(order):\n",
    "        ax[1].plot(t, x_hat[:, i], c=bot_cmap[i], alpha=0.9)\n",
    "        ax[1].plot(t, x[:, i], c=bot_cmap[i], linestyle='--', lw=1)\n",
    "    \n",
    "    ax[0].set_title(\"Delay Network\")\n",
    "    ax[1].set_title(\"State Vector\")\n",
    "    ax[-1].set_xlabel(\"Time (s)\")\n",
    "\n",
    "    top_lc = LineCollection(\n",
    "        len(C) * [[(0, 0)]], lw=1, colors=top_cmap)\n",
    "    ax[0].legend([target_line, top_lc], [\"Input\", \"Output\"],\n",
    "                 handlelength=3.2, loc='lower right',\n",
    "                 handler_map={LineCollection: HandlerDashedLines()})\n",
    "\n",
    "    bot_lc_ideal = LineCollection(\n",
    "        order * [[(0, 0)]], lw=1, colors=bot_cmap, linestyle='--')\n",
    "    bot_lc_actual = LineCollection(\n",
    "        order * [[(0, 0)]], lw=1, colors=bot_cmap)\n",
    "    ax[1].legend([bot_lc_ideal, bot_lc_actual], [\"Ideal\", \"Actual\"],\n",
    "                 handlelength=3.2, loc='lower right',\n",
    "                 handler_map={LineCollection: HandlerDashedLines()})\n",
    "    \n",
    "    for fmt in ('pdf', 'png'):\n",
    "        fig.savefig('%s.%s' % (name, fmt), dpi=600, bbox_inches='tight')\n",
    "\n",
    "    fig.show()\n",
    "    \n",
    "plot(\"delay_network\", t, u, x_hat)"
   ]
  },
  {
   "cell_type": "code",
   "execution_count": null,
   "metadata": {},
   "outputs": [],
   "source": [
    "# Ensure no overflows\n",
    "overflows = sim.hal.get_overflow_counts()\n",
    "assert overflows == 0, overflows"
   ]
  },
  {
   "cell_type": "code",
   "execution_count": null,
   "metadata": {},
   "outputs": [],
   "source": [
    "import time\n",
    "np.savez(\"delay_network_%s\" % time.time(), t=sim.trange(), u=u, x_hat=x_hat, x=x, C=C)"
   ]
  },
  {
   "cell_type": "code",
   "execution_count": null,
   "metadata": {},
   "outputs": [],
   "source": [
    "d = np.load(\"delay_network_1538398994.3587925.npz\")\n",
    "t = d['t']\n",
    "u = d['u']\n",
    "x_hat = d['x_hat']\n",
    "x = d['x']\n",
    "C = d['C']"
   ]
  },
  {
   "cell_type": "code",
   "execution_count": null,
   "metadata": {},
   "outputs": [],
   "source": [
    "from nengolib.signal import nrmse\n",
    "w = C.dot(x_hat.T)\n",
    "w_ideal = C.dot(x.T)\n",
    "e = nrmse(w.flatten(), target=w_ideal.flatten())#, axis=1)\n",
    "print(e) #np.mean(e_window))"
   ]
  },
  {
   "cell_type": "code",
   "execution_count": null,
   "metadata": {},
   "outputs": [],
   "source": []
  },
  {
   "cell_type": "code",
   "execution_count": null,
   "metadata": {},
   "outputs": [],
   "source": []
  }
 ],
 "metadata": {
  "kernelspec": {
   "display_name": "Python 3",
   "language": "python",
   "name": "python3"
  },
  "language_info": {
   "codemirror_mode": {
    "name": "ipython",
    "version": 3
   },
   "file_extension": ".py",
   "mimetype": "text/x-python",
   "name": "python",
   "nbconvert_exporter": "python",
   "pygments_lexer": "ipython3",
   "version": "3.6.4"
  }
 },
 "nbformat": 4,
 "nbformat_minor": 2
}
